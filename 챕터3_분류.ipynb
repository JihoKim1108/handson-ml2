{
  "cells": [
    {
      "cell_type": "markdown",
      "metadata": {
        "id": "view-in-github",
        "colab_type": "text"
      },
      "source": [
        "<a href=\"https://colab.research.google.com/github/JihoKim1108/handson-ml2/blob/master/%EC%B1%95%ED%84%B03_%EB%B6%84%EB%A5%98.ipynb\" target=\"_parent\"><img src=\"https://colab.research.google.com/assets/colab-badge.svg\" alt=\"Open In Colab\"/></a>"
      ]
    },
    {
      "cell_type": "markdown",
      "metadata": {
        "id": "kmUM_t-bov8I"
      },
      "source": [
        "# 3.1 MNIST"
      ]
    },
    {
      "cell_type": "code",
      "execution_count": null,
      "metadata": {
        "colab": {
          "base_uri": "https://localhost:8080/"
        },
        "id": "sIzxyEFfcw5j",
        "outputId": "4db6a109-92d6-4f94-ecf4-6ecd166d4ed5"
      },
      "outputs": [
        {
          "output_type": "stream",
          "name": "stderr",
          "text": [
            "/usr/local/lib/python3.10/dist-packages/sklearn/datasets/_openml.py:968: FutureWarning: The default value of `parser` will change from `'liac-arff'` to `'auto'` in 1.4. You can set `parser='auto'` to silence this warning. Therefore, an `ImportError` will be raised from 1.4 if the dataset is dense and pandas is not installed. Note that the pandas parser may return different data types. See the Notes Section in fetch_openml's API doc for details.\n",
            "  warn(\n"
          ]
        },
        {
          "output_type": "execute_result",
          "data": {
            "text/plain": [
              "dict_keys(['data', 'target', 'frame', 'categories', 'feature_names', 'target_names', 'DESCR', 'details', 'url'])"
            ]
          },
          "metadata": {},
          "execution_count": 1
        }
      ],
      "source": [
        "# MNIST 데이터셋: 숫자 이미지\n",
        "from sklearn.datasets import fetch_openml\n",
        "mnist = fetch_openml('mnist_784', version=1, as_frame=False)\n",
        "mnist.keys()"
      ]
    },
    {
      "cell_type": "code",
      "execution_count": null,
      "metadata": {
        "colab": {
          "base_uri": "https://localhost:8080/"
        },
        "id": "S0B2hL2_dnyJ",
        "outputId": "6d496e38-148c-4a65-a6d9-dae5b15f2004"
      },
      "outputs": [
        {
          "output_type": "execute_result",
          "data": {
            "text/plain": [
              "(70000, 784)"
            ]
          },
          "metadata": {},
          "execution_count": 2
        }
      ],
      "source": [
        "# 배열 살펴보기\n",
        "X, y = mnist['data'], mnist['target']\n",
        "X.shape"
      ]
    },
    {
      "cell_type": "code",
      "execution_count": null,
      "metadata": {
        "colab": {
          "base_uri": "https://localhost:8080/"
        },
        "id": "GjTPqBrekHsj",
        "outputId": "f01bd11d-887e-4dee-d2c3-1c655c609a94"
      },
      "outputs": [
        {
          "output_type": "execute_result",
          "data": {
            "text/plain": [
              "(70000,)"
            ]
          },
          "metadata": {},
          "execution_count": 3
        }
      ],
      "source": [
        "y.shape"
      ]
    },
    {
      "cell_type": "markdown",
      "metadata": {
        "id": "qp65VPSNkeIW"
      },
      "source": [
        "* 이미지 70000개, 각 이미지 784개의 특성\n",
        "* 이미지가 28X28 픽셀이기 때문"
      ]
    },
    {
      "cell_type": "markdown",
      "metadata": {
        "id": "8MiflmW8kxN-"
      },
      "source": [
        "* 데이터셋에서 이미지 하나 확인"
      ]
    },
    {
      "cell_type": "code",
      "execution_count": null,
      "metadata": {
        "colab": {
          "base_uri": "https://localhost:8080/",
          "height": 406
        },
        "id": "Z4sWxwBxk1_J",
        "outputId": "d20e5906-1b37-4848-eaeb-a7d165b4df52"
      },
      "outputs": [
        {
          "output_type": "display_data",
          "data": {
            "text/plain": [
              "<Figure size 640x480 with 1 Axes>"
            ],
            "image/png": "[encoded data removed]"
          },
          "metadata": {}
        }
      ],
      "source": [
        "import matplotlib as mpl\n",
        "import matplotlib.pyplot as plt\n",
        "\n",
        "some_digit = X[0]\n",
        "some_digit_image = some_digit.reshape(28, 28)\n",
        "\n",
        "plt.imshow(some_digit_image, cmap='binary')\n",
        "plt.axis('off')\n",
        "plt.show()"
      ]
    },
    {
      "cell_type": "markdown",
      "metadata": {
        "id": "AXBsxIESlh4P"
      },
      "source": [
        "* 5로 보임. 실제 레이블 확인"
      ]
    },
    {
      "cell_type": "code",
      "execution_count": null,
      "metadata": {
        "colab": {
          "base_uri": "https://localhost:8080/",
          "height": 36
        },
        "id": "m34KYO8qlcaM",
        "outputId": "87a59ad2-acec-4f5e-e976-1e8fbdfc38cd"
      },
      "outputs": [
        {
          "output_type": "execute_result",
          "data": {
            "text/plain": [
              "'5'"
            ],
            "application/vnd.google.colaboratory.intrinsic+json": {
              "type": "string"
            }
          },
          "metadata": {},
          "execution_count": 5
        }
      ],
      "source": [
        "y[0]"
      ]
    },
    {
      "cell_type": "markdown",
      "metadata": {
        "id": "sszZ7gYkmR-v"
      },
      "source": [
        "* 레이블이 문자열이므로 y를 정수로 변환"
      ]
    },
    {
      "cell_type": "code",
      "execution_count": null,
      "metadata": {
        "id": "A6CTLM6PmYlP"
      },
      "outputs": [],
      "source": [
        "import numpy as np\n",
        "y = y.astype(np.uint8)"
      ]
    },
    {
      "cell_type": "markdown",
      "metadata": {
        "id": "dLbv4srsmdFG"
      },
      "source": [
        "* 데이터를 자세히 조사하기 전에 항상 테스트 세트를 만들고 따로 떼어놓아야 함\n",
        "* 이미 MNIST 데이터셋은 이미 훈련 세트와 테스트 세트로 나누어 놓았음"
      ]
    },
    {
      "cell_type": "code",
      "execution_count": null,
      "metadata": {
        "id": "j3oXZn3cnNjY"
      },
      "outputs": [],
      "source": [
        "X_train, X_test, y_train, y_test = X[:60000], X[60000:], y[:60000], y[60000:]"
      ]
    },
    {
      "cell_type": "markdown",
      "metadata": {
        "id": "6Ag4lcomn17j"
      },
      "source": [
        "* 훈련 세트는 이미 섞여 있어서 모든 교차 검증 폴드를 비슷하게 만든다\n",
        "* 어떤 학습 알고리즘은 훈련 샘플의 순서에 민감해서 비슷한 샘플이 연이어 나타나면 성능이 나빠진다\n",
        " * SGD가 샘플을 섞어야 하는 대표적인 경우\n",
        "\n",
        "* 하지만 어떤 경우는 섞는 것이 좋지 않다\n",
        " * 주식가격, 날씨 예보 같은 시계열 데이터를 다룰 때"
      ]
    },
    {
      "cell_type": "markdown",
      "metadata": {
        "id": "3LWJ3MYHogr3"
      },
      "source": [
        "# 3.2 이진 분류기 훈련"
      ]
    },
    {
      "cell_type": "markdown",
      "metadata": {
        "id": "hd8_k4GCo87M"
      },
      "source": [
        "* 문제를 단순화해서 하나의 숫자 5만 식별해보자\n",
        "* 이진 분류기(binary classifier)의 한 예시"
      ]
    },
    {
      "cell_type": "code",
      "execution_count": null,
      "metadata": {
        "id": "6Ipo_HbFpMRG"
      },
      "outputs": [],
      "source": [
        "# 타깃 벡터 만들기\n",
        "y_train_5 = (y_train == 5) # 5는 True고, 다른 숫자는 모두 False\n",
        "y_test_5 = (y_test == 5)"
      ]
    },
    {
      "cell_type": "markdown",
      "metadata": {
        "id": "EH63mXzNq1aa"
      },
      "source": [
        "* 확률적 경사 하강법(Stochastic Gradient Descent, SGD) 분류기\n",
        " * 매우 큰 데이터셋을 효율적으로 처리\n",
        " * 한 번에 하나씩 훈련 샘플을 독립적으로 처리\n",
        " * 그래서 온라인 학습에 잘 들어맞음\n",
        " * 훈련하는 데 무작위성을 사용(stochaastic)\n"
      ]
    },
    {
      "cell_type": "code",
      "execution_count": null,
      "metadata": {
        "colab": {
          "base_uri": "https://localhost:8080/",
          "height": 74
        },
        "id": "9LwW1dlMrETj",
        "outputId": "abe008e4-0ef5-47d9-a367-17b93b39b6f6"
      },
      "outputs": [
        {
          "output_type": "execute_result",
          "data": {
            "text/plain": [
              "SGDClassifier(random_state=42)"
            ],
            "text/html": [
              "<style>#sk-container-id-1 {color: black;background-color: white;}#sk-container-id-1 pre{padding: 0;}#sk-container-id-1 div.sk-toggleable {background-color: white;}#sk-container-id-1 label.sk-toggleable__label {cursor: pointer;display: block;width: 100%;margin-bottom: 0;padding: 0.3em;box-sizing: border-box;text-align: center;}#sk-container-id-1 label.sk-toggleable__label-arrow:before {content: \"▸\";float: left;margin-right: 0.25em;color: #696969;}#sk-container-id-1 label.sk-toggleable__label-arrow:hover:before {color: black;}#sk-container-id-1 div.sk-estimator:hover label.sk-toggleable__label-arrow:before {color: black;}#sk-container-id-1 div.sk-toggleable__content {max-height: 0;max-width: 0;overflow: hidden;text-align: left;background-color: #f0f8ff;}#sk-container-id-1 div.sk-toggleable__content pre {margin: 0.2em;color: black;border-radius: 0.25em;background-color: #f0f8ff;}#sk-container-id-1 input.sk-toggleable__control:checked~div.sk-toggleable__content {max-height: 200px;max-width: 100%;overflow: auto;}#sk-container-id-1 input.sk-toggleable__control:checked~label.sk-toggleable__label-arrow:before {content: \"▾\";}#sk-container-id-1 div.sk-estimator input.sk-toggleable__control:checked~label.sk-toggleable__label {background-color: #d4ebff;}#sk-container-id-1 div.sk-label input.sk-toggleable__control:checked~label.sk-toggleable__label {background-color: #d4ebff;}#sk-container-id-1 input.sk-hidden--visually {border: 0;clip: rect(1px 1px 1px 1px);clip: rect(1px, 1px, 1px, 1px);height: 1px;margin: -1px;overflow: hidden;padding: 0;position: absolute;width: 1px;}#sk-container-id-1 div.sk-estimator {font-family: monospace;background-color: #f0f8ff;border: 1px dotted black;border-radius: 0.25em;box-sizing: border-box;margin-bottom: 0.5em;}#sk-container-id-1 div.sk-estimator:hover {background-color: #d4ebff;}#sk-container-id-1 div.sk-parallel-item::after {content: \"\";width: 100%;border-bottom: 1px solid gray;flex-grow: 1;}#sk-container-id-1 div.sk-label:hover label.sk-toggleable__label {background-color: #d4ebff;}#sk-container-id-1 div.sk-serial::before {content: \"\";position: absolute;border-left: 1px solid gray;box-sizing: border-box;top: 0;bottom: 0;left: 50%;z-index: 0;}#sk-container-id-1 div.sk-serial {display: flex;flex-direction: column;align-items: center;background-color: white;padding-right: 0.2em;padding-left: 0.2em;position: relative;}#sk-container-id-1 div.sk-item {position: relative;z-index: 1;}#sk-container-id-1 div.sk-parallel {display: flex;align-items: stretch;justify-content: center;background-color: white;position: relative;}#sk-container-id-1 div.sk-item::before, #sk-container-id-1 div.sk-parallel-item::before {content: \"\";position: absolute;border-left: 1px solid gray;box-sizing: border-box;top: 0;bottom: 0;left: 50%;z-index: -1;}#sk-container-id-1 div.sk-parallel-item {display: flex;flex-direction: column;z-index: 1;position: relative;background-color: white;}#sk-container-id-1 div.sk-parallel-item:first-child::after {align-self: flex-end;width: 50%;}#sk-container-id-1 div.sk-parallel-item:last-child::after {align-self: flex-start;width: 50%;}#sk-container-id-1 div.sk-parallel-item:only-child::after {width: 0;}#sk-container-id-1 div.sk-dashed-wrapped {border: 1px dashed gray;margin: 0 0.4em 0.5em 0.4em;box-sizing: border-box;padding-bottom: 0.4em;background-color: white;}#sk-container-id-1 div.sk-label label {font-family: monospace;font-weight: bold;display: inline-block;line-height: 1.2em;}#sk-container-id-1 div.sk-label-container {text-align: center;}#sk-container-id-1 div.sk-container {/* jupyter's `normalize.less` sets `[hidden] { display: none; }` but bootstrap.min.css set `[hidden] { display: none !important; }` so we also need the `!important` here to be able to override the default hidden behavior on the sphinx rendered scikit-learn.org. See: https://github.com/scikit-learn/scikit-learn/issues/21755 */display: inline-block !important;position: relative;}#sk-container-id-1 div.sk-text-repr-fallback {display: none;}</style><div id=\"sk-container-id-1\" class=\"sk-top-container\"><div class=\"sk-text-repr-fallback\"><pre>SGDClassifier(random_state=42)</pre><b>In a Jupyter environment, please rerun this cell to show the HTML representation or trust the notebook. <br />On GitHub, the HTML representation is unable to render, please try loading this page with nbviewer.org.</b></div><div class=\"sk-container\" hidden><div class=\"sk-item\"><div class=\"sk-estimator sk-toggleable\"><input class=\"sk-toggleable__control sk-hidden--visually\" id=\"sk-estimator-id-1\" type=\"checkbox\" checked><label for=\"sk-estimator-id-1\" class=\"sk-toggleable__label sk-toggleable__label-arrow\">SGDClassifier</label><div class=\"sk-toggleable__content\"><pre>SGDClassifier(random_state=42)</pre></div></div></div></div></div>"
            ]
          },
          "metadata": {},
          "execution_count": 9
        }
      ],
      "source": [
        "from sklearn.linear_model import SGDClassifier\n",
        "\n",
        "sgd_clf = SGDClassifier(random_state=42)\n",
        "sgd_clf.fit(X_train, y_train_5)"
      ]
    },
    {
      "cell_type": "code",
      "execution_count": null,
      "metadata": {
        "colab": {
          "base_uri": "https://localhost:8080/"
        },
        "id": "C0xSdM3Osg46",
        "outputId": "6da03851-6c39-4300-8504-9ab58c3482b5"
      },
      "outputs": [
        {
          "output_type": "execute_result",
          "data": {
            "text/plain": [
              "array([ True])"
            ]
          },
          "metadata": {},
          "execution_count": 10
        }
      ],
      "source": [
        "sgd_clf.predict([some_digit])"
      ]
    },
    {
      "cell_type": "markdown",
      "metadata": {
        "id": "Qd8Gg1nssrP4"
      },
      "source": [
        "# 3.3 성능 측정"
      ]
    },
    {
      "cell_type": "markdown",
      "metadata": {
        "id": "sZAXi4q9sz82"
      },
      "source": [
        "* 분류기 평가는 회귀 모델보다 훨씬 어렵다\n",
        "* 사용가능한 성능 지표가 많다"
      ]
    },
    {
      "cell_type": "markdown",
      "metadata": {
        "id": "8oC3tsVUtMST"
      },
      "source": [
        "교차 검증을 사용한 정확도 측정\n",
        "> 교차 검증 구현\n",
        " * 가끔 사이킷런이 제공하는 기능보다 교차 검증 과정을 더 많이 제어해야 할 필요가 있다. 이때는 교차 검증 기능을 직접 구현하면 된다\n",
        " * 다음 코드는 cross_val_score() 함수와 거의 같은 작업을 수행하고 동일한 결과를 출력한다"
      ]
    },
    {
      "cell_type": "code",
      "execution_count": null,
      "metadata": {
        "colab": {
          "base_uri": "https://localhost:8080/"
        },
        "id": "k0tXhKMsttuz",
        "outputId": "218b7e70-f9d0-4681-cae8-1a71bfb33b0a"
      },
      "outputs": [
        {
          "output_type": "stream",
          "name": "stdout",
          "text": [
            "0.9669\n",
            "0.91625\n",
            "0.96785\n"
          ]
        }
      ],
      "source": [
        "from sklearn.model_selection import StratifiedKFold\n",
        "from sklearn.base import clone\n",
        "\n",
        "skfolds = StratifiedKFold(n_splits=3, random_state=42, shuffle=True)\n",
        "\n",
        "for train_index, test_index in skfolds.split(X_train, y_train_5):\n",
        "    clone_clf = clone(sgd_clf) # 기존 분류기의 복사본 만들기\n",
        "    X_train_folds = X_train[train_index]\n",
        "    y_train_folds = y_train_5[train_index]\n",
        "    X_test_fold = X_train[test_index]\n",
        "    y_test_fold = y_train_5[test_index]\n",
        "    # 순서가 중요할 듯?\n",
        "\n",
        "    clone_clf.fit(X_train_folds, y_train_folds)\n",
        "    y_pred = clone_clf.predict(X_test_fold)\n",
        "    n_correct = sum(y_pred == y_test_fold)\n",
        "    print(n_correct / len(y_pred))"
      ]
    },
    {
      "cell_type": "markdown",
      "metadata": {
        "id": "BrIDRSPU91MD"
      },
      "source": [
        "* cross_val_score() 함수로 폴드가 3개인 k-겹 교차 검증을 사용해 SGDClassifier 모델을 평가"
      ]
    },
    {
      "cell_type": "code",
      "execution_count": null,
      "metadata": {
        "colab": {
          "base_uri": "https://localhost:8080/"
        },
        "id": "bct8qliZ-QlJ",
        "outputId": "91081af8-bdc4-4f28-a403-16d5dbfb673a"
      },
      "outputs": [
        {
          "output_type": "execute_result",
          "data": {
            "text/plain": [
              "array([0.95035, 0.96035, 0.9604 ])"
            ]
          },
          "metadata": {},
          "execution_count": 12
        }
      ],
      "source": [
        "from sklearn.model_selection import cross_val_score\n",
        "cross_val_score(sgd_clf, X_train, y_train_5, cv=3, scoring='accuracy')"
      ]
    },
    {
      "cell_type": "markdown",
      "metadata": {
        "id": "m5v2NrZU-dyz"
      },
      "source": [
        "* 모든 이미지를 '5아님' 클래스로 분류하는 더미 분류기를 만들어 비교"
      ]
    },
    {
      "cell_type": "code",
      "execution_count": null,
      "metadata": {
        "id": "8wBmVaiU_Stg"
      },
      "outputs": [],
      "source": [
        "from sklearn.base import BaseEstimator\n",
        "\n",
        "class Never5Classifier(BaseEstimator):\n",
        "    def fit(self, X, y=None):\n",
        "        return self\n",
        "    def predict(self, X):\n",
        "        return np.zeros((len(X), 1), dtype=bool)"
      ]
    },
    {
      "cell_type": "code",
      "execution_count": null,
      "metadata": {
        "colab": {
          "base_uri": "https://localhost:8080/"
        },
        "id": "Dt-SVP2u__Bm",
        "outputId": "cde1fb17-54ba-4380-e3cf-d1449a152666"
      },
      "outputs": [
        {
          "output_type": "execute_result",
          "data": {
            "text/plain": [
              "array([0.91125, 0.90855, 0.90915])"
            ]
          },
          "metadata": {},
          "execution_count": 14
        }
      ],
      "source": [
        "# 정확도 추측\n",
        "never_5_clf = Never5Classifier()\n",
        "cross_val_score(never_5_clf, X_train, y_train_5, cv=3, scoring='accuracy')"
      ]
    },
    {
      "cell_type": "markdown",
      "metadata": {
        "id": "GixBAkc7IOfr"
      },
      "source": [
        "* 이미지의 10% 정도만 숫자 5이기 때문에 무조건 '5아님'으로 예측하면 정확히 맞출 확률이 90%이다\n",
        "* 이 예제는 정확도를 분류기의 성능 측정 지표로 선호하지 않는 이유를 보여준다\n",
        " * 특히 불균형한 데이터셋을 다룰 때 더욱 그렇다(어떤 클래스가 다른 것보다 월들히 많은 경우)"
      ]
    },
    {
      "cell_type": "markdown",
      "metadata": {
        "id": "raZOG6gJH8T5"
      },
      "source": [
        "오차 행렬"
      ]
    },
    {
      "cell_type": "markdown",
      "metadata": {
        "id": "cxUkGZk9JJlr"
      },
      "source": [
        "* 오차 행렬(confusion matrix)\n",
        "> * 분류기의 성능을 평가하는 더 좋은 방법\n",
        "  * 기본적 아이디어: 클래스 A의 샘플이 클래스 B로 분류된 횟수를 세는 것\n",
        "  * 예) 분류기가 숫자 5의 이미지를 3으로 잘못 분류한 횟수를 알고 싶다면 오차 행렬의 5행 3열을 보면 된다\n",
        "\n",
        "* 오차 행렬 만들기\n",
        "> * 실제 타깃과 비교할 수 있도록 먼저 예측값을 만들어야 함\n",
        "  * cross_val_predict() 사용"
      ]
    },
    {
      "cell_type": "code",
      "execution_count": null,
      "metadata": {
        "id": "B8pCSDXaJnbe"
      },
      "outputs": [],
      "source": [
        "from sklearn.model_selection import cross_val_predict\n",
        "\n",
        "y_train_pred = cross_val_predict(sgd_clf, X_train, y_train_5, cv=3)"
      ]
    },
    {
      "cell_type": "markdown",
      "metadata": {
        "id": "Na7CigqeKpWl"
      },
      "source": [
        "* cross_val_score() 함수처럼 cross_val_predict() 함수는 k-겹 교차 검증을 수행하지만 평가 점수를 반환하지 않고 각 테스트 폴드에서 얻은 예측을 반환\n",
        "\n",
        "* 즉, 훈련 세트의 모든 샘플에 대해 깨끗한 예측을 얻게 됨('깨끗하다': 모델이 훈련하는 동안 보지 못했던 데이터에 대해 예측했다는 의미\n",
        "\n",
        "* confusion_matrix() 함수 사용해 오차 행렬 만듬. 타깃 클래스, 예측 클래스 넣고 호출"
      ]
    },
    {
      "cell_type": "code",
      "execution_count": null,
      "metadata": {
        "colab": {
          "base_uri": "https://localhost:8080/"
        },
        "id": "T-PX1DYULq2q",
        "outputId": "c03f9352-9248-46c3-9c36-b6cf2ec4ea42"
      },
      "outputs": [
        {
          "output_type": "execute_result",
          "data": {
            "text/plain": [
              "array([[53892,   687],\n",
              "       [ 1891,  3530]])"
            ]
          },
          "metadata": {},
          "execution_count": 16
        }
      ],
      "source": [
        "from sklearn.metrics import confusion_matrix\n",
        "confusion_matrix(y_train_5, y_train_pred)"
      ]
    },
    {
      "cell_type": "markdown",
      "metadata": {
        "id": "5mEdwh6LL37t"
      },
      "source": [
        "* 오차 행렬의 행: 실제 클래스\n",
        "* 오차 행렬의 열: 예측한 클래스\n",
        "* 이 행렬의 첫 번째 행은 '5 아님'이미지(음성 클래스)에 대한 것\n",
        "> * 53892개를 '5 아님'으로 정확하게 분류('진짜 음성'이라고 함)\n",
        "  * 나머지 687개는 '5'라고 잘못 분류('거짓 양성')\n",
        "\n",
        "* 두 번째 행은 '5' 이미지(양성 클래스)에 대한 것\n",
        "> * 1891개를 '5 아님'으로 잘못 분류('거짓 음성')\n",
        "  * 나머지 3530을 정확히 '5'라고 분류('진짜 양성')\n",
        "\n",
        "* 완벽한 분류기라면 진짜 양성과 진짜 음성만 가지고 있을 것이므로 오차 행렬의 주대각선(왼쪽 위에서 오른쪽 아래로)만 0이 아닌 값이 된다\n"
      ]
    },
    {
      "cell_type": "code",
      "execution_count": null,
      "metadata": {
        "colab": {
          "base_uri": "https://localhost:8080/"
        },
        "id": "sgMGyQGvWwCj",
        "outputId": "a924ed18-809a-4775-987f-6d7f5715db8b"
      },
      "outputs": [
        {
          "output_type": "execute_result",
          "data": {
            "text/plain": [
              "array([[54579,     0],\n",
              "       [    0,  5421]])"
            ]
          },
          "metadata": {},
          "execution_count": 17
        }
      ],
      "source": [
        "# 완벽한 분류기 예시\n",
        "y_train_perfect_predictions = y_train_5\n",
        "confusion_matrix(y_train_5, y_train_perfect_predictions)"
      ]
    },
    {
      "cell_type": "markdown",
      "metadata": {
        "id": "hsfnTP0eaSF0"
      },
      "source": [
        "* 더 요약된 지표 필요할 때 살펴볼 만한 것\n",
        "* 정밀도(precision): 모델이 양성이라고 예측한 샘플 중 실제로 양성인 샘플의 비율\n",
        "> * 양성으로 예측한 샘플이 실제로 양성인 경우에만 점수를 부여\n",
        "  * 양성 샘플을 놓치는 경우가 발생할 수 있다\n",
        "  * 정밀도는 재현율이라는 또 다른 지표와 같이 사용하는 것이 일반적\n",
        "* 재현율(recall) 또는 민감도(sensitivity) 또는 진짜 양성 비율(true positive rate, TPR): 모델이 양성 클래스를 얼마나 잘 찾아내는지를 측정. 즉, 전체 양성 샘플 중에서 모델이 양성으로 정확하게 예측한 샘플의 비율\n",
        "> * 실제 양성 샘플을 모두 찾아내는 것에 중점\n",
        "  * 이 과정에서 음성 샘플을 양성으로 잘못 분류하는 경우가 발생할 수 있다"
      ]
    },
    {
      "cell_type": "markdown",
      "metadata": {
        "id": "SFSPYaS_GF7i"
      },
      "source": [
        "* 정밀도와 재현율"
      ]
    },
    {
      "cell_type": "code",
      "execution_count": null,
      "metadata": {
        "colab": {
          "base_uri": "https://localhost:8080/"
        },
        "id": "ybtPvkaQIc9W",
        "outputId": "587f94d6-cf03-4b21-ee27-d408cc00f20a"
      },
      "outputs": [
        {
          "output_type": "execute_result",
          "data": {
            "text/plain": [
              "0.8370879772350012"
            ]
          },
          "metadata": {},
          "execution_count": 18
        }
      ],
      "source": [
        "from sklearn.metrics import precision_score, recall_score\n",
        "precision_score(y_train_5, y_train_pred)"
      ]
    },
    {
      "cell_type": "code",
      "execution_count": null,
      "metadata": {
        "colab": {
          "base_uri": "https://localhost:8080/"
        },
        "id": "SxTToAzqLcvA",
        "outputId": "830c6bda-8287-4ad6-895d-1957695773a3"
      },
      "outputs": [
        {
          "output_type": "execute_result",
          "data": {
            "text/plain": [
              "0.6511713705958311"
            ]
          },
          "metadata": {},
          "execution_count": 19
        }
      ],
      "source": [
        "recall_score(y_train_5, y_train_pred)"
      ]
    },
    {
      "cell_type": "markdown",
      "metadata": {
        "id": "nJbQkqvmIqJ1"
      },
      "source": [
        "* F1 점수: 정밀도와 재현율의 조화 평균(harmonic mean)\n",
        ">* 정밀도와 재현율이 모두 높을 때 최대가 된다\n",
        " * 정밀도와 재현율 사이의 균형을 맞추는 데 중점을 둔 지표\n",
        " * 이런 특성 때문에 F1 점수는 양성 샘플의 수가 적거나 가짜 양성과 가짜 음성 중 어느 하나를 특별히 피해야 하는 상황에서 유용하게 사용 가능하다!"
      ]
    },
    {
      "cell_type": "code",
      "execution_count": null,
      "metadata": {
        "colab": {
          "base_uri": "https://localhost:8080/"
        },
        "id": "M1JLzAtFJDMc",
        "outputId": "8deaf6d8-2d70-4788-a8ed-be2acc927944"
      },
      "outputs": [
        {
          "output_type": "execute_result",
          "data": {
            "text/plain": [
              "0.7325171197343846"
            ]
          },
          "metadata": {},
          "execution_count": 20
        }
      ],
      "source": [
        "from sklearn.metrics import f1_score\n",
        "f1_score(y_train_5, y_train_pred)"
      ]
    },
    {
      "cell_type": "markdown",
      "metadata": {
        "id": "kIqzMhCBupVu"
      },
      "source": [
        "* 정밀도/재현율 트레이드오프: 정밀도를 올리면 재현율이 줄고 그 반대도 마찬가지\n",
        "* 어떤 지표가 더 중요한지 생각해 보자"
      ]
    },
    {
      "cell_type": "markdown",
      "metadata": {
        "id": "Y8PSn1Owu3Rw"
      },
      "source": [
        "* SGDClassifier가 분류를 어떻게 결정하는지 살펴보자\n",
        "> * 이 분류기는 결정 함수(decision function)을 사용하여 각 샘플의 점수를 계산\n",
        "  * 임곗값보다 크면 샘플을 양성 클래스로 할당, 아니면 음성 클래스에 할당(결정 임곗값, decision threshold)\n",
        "  * 결정 임곗값에 따라서 재현율과 정밀도가 트레이드오프가 된다"
      ]
    },
    {
      "cell_type": "markdown",
      "metadata": {
        "id": "eu2Dy6jPuy6m"
      },
      "source": [
        "* 사이킷런에서 임곗값을 직접 지정할 수는 없지만 예측에 사용한 점수는 확인할 수 있다\n",
        "* 분류기의 predict() 대신 decision_function() 호출하면 각 샘플의 점수를 얻을 수 있다"
      ]
    },
    {
      "cell_type": "code",
      "execution_count": null,
      "metadata": {
        "colab": {
          "base_uri": "https://localhost:8080/"
        },
        "id": "Z39kcgnIz-52",
        "outputId": "d031997e-510e-456b-a64d-5fecf9cfa448"
      },
      "outputs": [
        {
          "output_type": "execute_result",
          "data": {
            "text/plain": [
              "array([2164.22030239])"
            ]
          },
          "metadata": {},
          "execution_count": 21
        }
      ],
      "source": [
        "y_scores = sgd_clf.decision_function([some_digit])\n",
        "y_scores"
      ]
    },
    {
      "cell_type": "markdown",
      "metadata": {
        "id": "BB5Q202z6Xqe"
      },
      "source": [
        "* 위 점수를 기반으로 원하는 임곗값 정하기"
      ]
    },
    {
      "cell_type": "code",
      "execution_count": null,
      "metadata": {
        "colab": {
          "base_uri": "https://localhost:8080/"
        },
        "id": "oZDYH-GA4dkt",
        "outputId": "e1d00fe2-5bcd-4208-930e-476d165adb71"
      },
      "outputs": [
        {
          "output_type": "execute_result",
          "data": {
            "text/plain": [
              "array([ True])"
            ]
          },
          "metadata": {},
          "execution_count": 22
        }
      ],
      "source": [
        "threshold = 0\n",
        "y_some_digit_pred = (y_scores > threshold)\n",
        "y_some_digit_pred"
      ]
    },
    {
      "cell_type": "markdown",
      "metadata": {
        "id": "vpDUudu14ro-"
      },
      "source": [
        "* 임곗값 높이기"
      ]
    },
    {
      "cell_type": "code",
      "execution_count": null,
      "metadata": {
        "colab": {
          "base_uri": "https://localhost:8080/"
        },
        "id": "oF0ndjCZ61jh",
        "outputId": "8ddade36-2b6c-4e19-b0ee-914389892fbf"
      },
      "outputs": [
        {
          "output_type": "execute_result",
          "data": {
            "text/plain": [
              "array([False])"
            ]
          },
          "metadata": {},
          "execution_count": 23
        }
      ],
      "source": [
        "threshold = 8000\n",
        "y_some_digit_pred = (y_scores > threshold)\n",
        "y_some_digit_pred"
      ]
    },
    {
      "cell_type": "markdown",
      "metadata": {
        "id": "oBk_FYgX7ALy"
      },
      "source": [
        "* 적절한 임곗값을 어떻게 정하는가?\n",
        "> * 먼저 cross_val_predict() 사용해 훈련 세트에 있는 모든 샘플의 점수를 구해야 함\n",
        "  * 이번에는 예측 결과가 아니라 결정 점수를 반환하도록 지정"
      ]
    },
    {
      "cell_type": "code",
      "execution_count": null,
      "metadata": {
        "id": "B7iO8KR57YT3"
      },
      "outputs": [],
      "source": [
        "y_scores = cross_val_predict(sgd_clf, X_train, y_train_5, cv=3, \n",
        "                             method='decision_function')"
      ]
    },
    {
      "cell_type": "markdown",
      "metadata": {
        "id": "ibRWmfcm7kqq"
      },
      "source": [
        "* 이 점수로 precision_recall_curve() 사용하여 가능한 모든 임곗값에 대해 정밀도와 재현율을 계산 가능"
      ]
    },
    {
      "cell_type": "code",
      "execution_count": null,
      "metadata": {
        "id": "cn8mIPVW76_T"
      },
      "outputs": [],
      "source": [
        "from sklearn.metrics import precision_recall_curve\n",
        "\n",
        "precisions, recalls, thresholds = precision_recall_curve(y_train_5, y_scores)"
      ]
    },
    {
      "cell_type": "markdown",
      "metadata": {
        "id": "6WtVlzVM8PtM"
      },
      "source": [
        "* 임곗값의 함수로 정밀도와 재현율 그리기"
      ]
    },
    {
      "cell_type": "code",
      "execution_count": null,
      "metadata": {
        "colab": {
          "base_uri": "https://localhost:8080/",
          "height": 375
        },
        "id": "B6fsHt719sdS",
        "outputId": "6be4b2f4-649c-4bf1-f22c-62ed107aa079"
      },
      "outputs": [
        {
          "output_type": "display_data",
          "data": {
            "text/plain": [
              "<Figure size 800x400 with 1 Axes>"
            ],
            "image/png": "[encoded data removed]"
          },
          "metadata": {}
        }
      ],
      "source": [
        "def plot_precision_recall_vs_threshold(precisions, recalls, thresholds):\n",
        "    plt.plot(thresholds, precisions[:-1], \"b--\", label=\"Precisions\", linewidth=2)\n",
        "    plt.plot(thresholds, recalls[:-1], \"g-\", label=\"Recalls\", linewidth=2)\n",
        "    plt.legend(loc=\"center right\", fontsize=16) # Not shown in the book\n",
        "    plt.xlabel(\"Threshold\", fontsize=16)        # Not shown\n",
        "    plt.grid(True)                              # Not shown\n",
        "    plt.axis([-50000, 50000, 0, 1])             # Not shown\n",
        "\n",
        "\n",
        "recall_90_precision = recalls[np.argmax(precisions >= 0.90)]\n",
        "threshold_90_precision = thresholds[np.argmax(precisions >= 0.90)]\n",
        "\n",
        "\n",
        "plt.figure(figsize=(8, 4))                                                                  # Not shown\n",
        "plot_precision_recall_vs_threshold(precisions, recalls, thresholds)\n",
        "plt.plot([threshold_90_precision, threshold_90_precision], [0., 0.9], \"r:\")                 # Not shown\n",
        "plt.plot([-50000, threshold_90_precision], [0.9, 0.9], \"r:\")                                # Not shown\n",
        "plt.plot([-50000, threshold_90_precision], [recall_90_precision, recall_90_precision], \"r:\")# Not shown\n",
        "plt.plot([threshold_90_precision], [0.9], \"ro\")                                             # Not shown\n",
        "plt.plot([threshold_90_precision], [recall_90_precision], \"ro\")                             # Not shown\n",
        "# save_fig(\"precision_recall_vs_threshold_plot\")                                              # Not shown\n",
        "plt.show()"
      ]
    },
    {
      "cell_type": "markdown",
      "metadata": {
        "id": "33gGkrK2877w"
      },
      "source": [
        "* 좋은 정밀도/재현율 트레이드오프를 선택하는 다른 방법\n",
        "> * 재현율에 대한 정밀도 곡선 그리기"
      ]
    },
    {
      "cell_type": "code",
      "execution_count": null,
      "metadata": {
        "colab": {
          "base_uri": "https://localhost:8080/"
        },
        "id": "CoED9hzMK-qM",
        "outputId": "0fada123-bfa7-4e8a-cb82-337cafcffcb2"
      },
      "outputs": [
        {
          "output_type": "execute_result",
          "data": {
            "text/plain": [
              "True"
            ]
          },
          "metadata": {},
          "execution_count": 27
        }
      ],
      "source": [
        "(y_train_pred == (y_scores > 0)).all()"
      ]
    },
    {
      "cell_type": "markdown",
      "metadata": {
        "id": "bJxQFMefSSov"
      },
      "source": [
        "* PR 곡선\n",
        "> * ROC 곡선과 비교해보자"
      ]
    },
    {
      "cell_type": "code",
      "execution_count": null,
      "metadata": {
        "colab": {
          "base_uri": "https://localhost:8080/",
          "height": 493
        },
        "id": "NORtZKmO9sdT",
        "outputId": "7f3ac471-eaf5-4698-e284-ff93b6c7313b"
      },
      "outputs": [
        {
          "output_type": "display_data",
          "data": {
            "text/plain": [
              "<Figure size 800x600 with 1 Axes>"
            ],
            "image/png": "[encoded data removed]"
          },
          "metadata": {}
        }
      ],
      "source": [
        "def plot_precision_vs_recall(precisions, recalls):\n",
        "    plt.plot(recalls, precisions, \"b-\", linewidth=2)\n",
        "    plt.xlabel(\"Recall\", fontsize=16)\n",
        "    plt.ylabel(\"Precision\", fontsize=16)\n",
        "    plt.axis([0, 1, 0, 1])\n",
        "    plt.grid(True)\n",
        "\n",
        "plt.figure(figsize=(8, 6))\n",
        "plot_precision_vs_recall(precisions, recalls)\n",
        "plt.plot([recall_90_precision, recall_90_precision], [0., 0.9], \"r:\")\n",
        "plt.plot([0.0, recall_90_precision], [0.9, 0.9], \"r:\")\n",
        "plt.plot([recall_90_precision], [0.9], \"ro\")\n",
        "# save_fig(\"precision_vs_recall_plot\")\n",
        "plt.show()"
      ]
    },
    {
      "cell_type": "markdown",
      "metadata": {
        "id": "iX9LaT0hLIAG"
      },
      "source": [
        "* PR 곡선이 오른쪽 위 모서리에 가까워질 수록 좋은 분류기이다\n",
        "* 재현율 70% 부터 정밀도가 급격하게 줄어듬\n",
        "* 이 하강점 직전을 정밀도/재현율 트레이드오프로 선택하는 것이 좋다. 예를 들어 재현율이 60% 정도인 지점\n",
        "* 물론 이런 선택은 프로젝트에 따라 달라짐\n"
      ]
    },
    {
      "cell_type": "markdown",
      "metadata": {
        "id": "mOmYCrFzMjNH"
      },
      "source": [
        "* 빨간 점이 '최소한 90% 정밀도가 되는 가장 낮은 임곗값'이다"
      ]
    },
    {
      "cell_type": "code",
      "execution_count": null,
      "metadata": {
        "colab": {
          "base_uri": "https://localhost:8080/"
        },
        "id": "QvDEfrayM_7E",
        "outputId": "4875c36f-3708-4a23-9c14-267003eba3c6"
      },
      "outputs": [
        {
          "output_type": "execute_result",
          "data": {
            "text/plain": [
              "3370.0194991439557"
            ]
          },
          "metadata": {},
          "execution_count": 29
        }
      ],
      "source": [
        "threshold_90_precision = thresholds[np.argmax(precisions >= 0.90)]\n",
        "threshold_90_precision"
      ]
    },
    {
      "cell_type": "markdown",
      "metadata": {
        "id": "5meCyO5PNPxU"
      },
      "source": [
        "* 훈련 세트에 대한 예측을 만들려면 분류기의 predict() 호출하는 대신 다음 코드를 실행"
      ]
    },
    {
      "cell_type": "code",
      "execution_count": null,
      "metadata": {
        "id": "eAu4TMDINlsg"
      },
      "outputs": [],
      "source": [
        "y_train_pred_90 = (y_scores >= threshold_90_precision)"
      ]
    },
    {
      "cell_type": "code",
      "execution_count": null,
      "metadata": {
        "colab": {
          "base_uri": "https://localhost:8080/"
        },
        "id": "UQqt9M3eN2Ij",
        "outputId": "e71cfb75-cf6a-46bd-b8db-76fdb3fe42e3"
      },
      "outputs": [
        {
          "output_type": "execute_result",
          "data": {
            "text/plain": [
              "0.9000345901072293"
            ]
          },
          "metadata": {},
          "execution_count": 31
        }
      ],
      "source": [
        "# 이 예측에 대한 정밀도와 재현율\n",
        "precision_score(y_train_5, y_train_pred_90)"
      ]
    },
    {
      "cell_type": "code",
      "execution_count": null,
      "metadata": {
        "colab": {
          "base_uri": "https://localhost:8080/"
        },
        "id": "qsoJT8uiOCHV",
        "outputId": "0a7f8a7b-9829-4c14-a40e-c08aacbc96fe"
      },
      "outputs": [
        {
          "output_type": "execute_result",
          "data": {
            "text/plain": [
              "0.4799852425751706"
            ]
          },
          "metadata": {},
          "execution_count": 32
        }
      ],
      "source": [
        "recall_score(y_train_5, y_train_pred_90)"
      ]
    },
    {
      "cell_type": "markdown",
      "metadata": {
        "id": "idTtwCB0OHV5"
      },
      "source": [
        "* 주의점! 재현율이 너무 낮다면 높은 정밀도의 분류기는 전혀 유용하지 않다\n",
        "> * 누군가 \"99% 정밀도를 달성하자\" 라고 말하면 반드시 \"재현율 얼마에서?\" 라고 물어봐야 한다"
      ]
    },
    {
      "cell_type": "markdown",
      "metadata": {
        "id": "372edJTFOnkl"
      },
      "source": [
        "* ROC 곡선\n",
        "* 수신자 조작 특성(receiver operating characteristic, ROC) 곡선도 이진 분류에서 널리 사용하는 도구\n",
        "> * 거짓 양성 비율(FPR)에 대한 진짜 양성 비율(TPR=재현율)의 곡선\n",
        "  * 양성으로 잘못 분류된 음성 샘플의 비율이 FPR이고, FPR은 음성으로 정확하게 분류한 음성 샘플의 비율인 진짜 음성 비율(TNR)을 뺀 값이다\n",
        "  * TNR = 특이도(specificity) 그러므로 ROC 곡선은 민감도(재현율=TPR)에 대한 1-특이도 그래프이다"
      ]
    },
    {
      "cell_type": "markdown",
      "metadata": {
        "id": "cxYtyDzfOq03"
      },
      "source": [
        "* ROC 곡선을 그리려먼 먼저 roc_curve() 함수를 사용해 여러 임곗값에서 TPR과 FPR을 계산해야함"
      ]
    },
    {
      "cell_type": "code",
      "execution_count": null,
      "metadata": {
        "id": "IV7xHE8iFvXL"
      },
      "outputs": [],
      "source": [
        "from sklearn.metrics import roc_curve\n",
        "\n",
        "fpr, tpr, thresholds = roc_curve(y_train_5, y_scores)"
      ]
    },
    {
      "cell_type": "code",
      "execution_count": null,
      "metadata": {
        "colab": {
          "base_uri": "https://localhost:8080/",
          "height": 493
        },
        "id": "jZsFYvC59sdW",
        "outputId": "099abb4b-9e8d-447b-c9b1-b99ca63c7776"
      },
      "outputs": [
        {
          "output_type": "display_data",
          "data": {
            "text/plain": [
              "<Figure size 800x600 with 1 Axes>"
            ],
            "image/png": "[encoded data removed]"
          },
          "metadata": {}
        }
      ],
      "source": [
        "# TPR에 대한 FPR 곡선\n",
        "def plot_roc_curve(fpr, tpr, label=None):\n",
        "    plt.plot(fpr, tpr, linewidth=2, label=label)\n",
        "    plt.plot([0, 1], [0, 1], 'k--') # 대각 점선\n",
        "    plt.axis([0, 1, 0, 1]) # 그래프의 축 범위                                 # Not shown in the book\n",
        "    plt.xlabel('False Positive Rate (Fall-Out)', fontsize=16) # Not shown\n",
        "    plt.ylabel('True Positive Rate (Recall)', fontsize=16)    # Not shown\n",
        "    plt.grid(True)                                            # Not shown\n",
        "\n",
        "plt.figure(figsize=(8, 6))                                    # Not shown\n",
        "plot_roc_curve(fpr, tpr)\n",
        "fpr_90 = fpr[np.argmax(tpr >= recall_90_precision)]           # 분류기가 90% 재현율을 달성하는 지점의 FPR\n",
        "plt.plot([fpr_90, fpr_90], [0., recall_90_precision], \"r:\")   # Not shown\n",
        "plt.plot([0.0, fpr_90], [recall_90_precision, recall_90_precision], \"r:\")  # Not shown\n",
        "plt.plot([fpr_90], [recall_90_precision], \"ro\")               # Not shown\n",
        "#save_fig(\"roc_curve_plot\")                                    # Not shown\n",
        "plt.show()"
      ]
    },
    {
      "cell_type": "markdown",
      "metadata": {
        "id": "k9Tb_-i9Gfl5"
      },
      "source": [
        "* 트레이드오프: 재현율(TPR)이 높을수록 분류기가 만드는 거짓 양성(FPR)이 늘어\n",
        "* ROC 곡선 아래의 면적을 AUC(Area Under the Curve)라고 부르며, 이는 모델의 전반적인 성능을 측정하는 지표로 사용. AUC가 1에 가까울수록 좋은 모델을 의미하며, 0.5는 랜덤 추측 수준의 모델을, 0에 가까우면 최악의 모델을 의미함."
      ]
    },
    {
      "cell_type": "code",
      "execution_count": null,
      "metadata": {
        "colab": {
          "base_uri": "https://localhost:8080/"
        },
        "id": "tLTq7X2bNZUE",
        "outputId": "c84f9a7e-5aac-46f3-f8fb-99bbada517e4"
      },
      "outputs": [
        {
          "output_type": "execute_result",
          "data": {
            "text/plain": [
              "0.9604938554008616"
            ]
          },
          "metadata": {},
          "execution_count": 35
        }
      ],
      "source": [
        "# ROC의 AUC 계산하는 함수\n",
        "from sklearn.metrics import roc_auc_score\n",
        "roc_auc_score(y_train_5, y_scores)"
      ]
    },
    {
      "cell_type": "markdown",
      "metadata": {
        "id": "NMOgYXHJRTVD"
      },
      "source": [
        "* ROC 곡선과 PR 곡선의 비교\n",
        "> * 일반적인 법칙은 양성클래스가 드물거나 거짓 음성보다 거짓 양성이 더 중요할 때 PR 곡선을 사용하고 그렇지 않으면 ROC 곡선을 사용\n",
        "  * AUC 점수가 좋은 이유: 음성에 비해 양성이 크게 적기 때문\n",
        "  * 그에비해 PR 곡선은 분류기의 성능 개선 여지가 얼마나 되는지 잘 보여준다"
      ]
    },
    {
      "cell_type": "markdown",
      "metadata": {
        "id": "tEehH8ZgSqDd"
      },
      "source": [
        "* 랜덤포레스트 이용해서 SGD와 점수 비교해보기\n",
        "> * 훈련 세트의 샘플에 대한 점수 얻기\n",
        "  * 랜덤포레스트는 decision_function()이 없다. 대신 predict_proba() 있다\n",
        "  * 사이킷런 분류기는 일반적으로 이 두 메소드 중 하나 또는 둘 모두를 가지고 있다\n",
        "  * predict_proba()는 샘플이 행, 클래스가 열이고 샘플이 주어진 클래스에 속할 확률을 담은 배열을 반환(예를 들어 어떤 이미지가 5일 확률 70%)"
      ]
    },
    {
      "cell_type": "code",
      "execution_count": null,
      "metadata": {
        "id": "SgyDwvTOTBZB"
      },
      "outputs": [],
      "source": [
        "from sklearn.ensemble import RandomForestClassifier\n",
        "\n",
        "forest_clf = RandomForestClassifier(random_state=42)\n",
        "y_probas_forest = cross_val_predict(forest_clf, X_train, y_train_5, cv=3, \n",
        "                                    method='predict_proba')"
      ]
    },
    {
      "cell_type": "markdown",
      "metadata": {
        "id": "njLh6JgNT5ja"
      },
      "source": [
        "* roc_curve()는 레이블과 점수를 기대. 하지만 점수 대신에 클래스 확률을 전달 가능하다"
      ]
    },
    {
      "cell_type": "code",
      "execution_count": null,
      "metadata": {
        "id": "o0UDthvQUg0h"
      },
      "outputs": [],
      "source": [
        "# 양성 클래스에 대한 확률을 점수로 사용\n",
        "y_scores_forest = y_probas_forest[:, 1] # 모든 양성 클래스에 대한 확률 선택\n",
        "fpr_forest, tpr_forest, thresholds_forest = roc_curve(y_train_5,y_scores_forest)"
      ]
    },
    {
      "cell_type": "markdown",
      "metadata": {
        "id": "0uGAaRBSZ939"
      },
      "source": [
        "* 첫 번째 ROC 곡선과 함께 그리기"
      ]
    },
    {
      "cell_type": "code",
      "execution_count": null,
      "metadata": {
        "colab": {
          "base_uri": "https://localhost:8080/",
          "height": 493
        },
        "id": "9vo7ulZDahrS",
        "outputId": "2bae650a-9f42-49ef-f46a-d1497ef7585d"
      },
      "outputs": [
        {
          "output_type": "display_data",
          "data": {
            "text/plain": [
              "<Figure size 800x600 with 1 Axes>"
            ],
            "image/png": "[encoded data removed]"
          },
          "metadata": {}
        }
      ],
      "source": [
        "recall_for_forest = tpr_forest[np.argmax(fpr_forest >= fpr_90)]\n",
        "\n",
        "plt.figure(figsize=(8, 6))\n",
        "plt.plot(fpr, tpr, \"b:\", linewidth=2, label=\"SGD\")\n",
        "plot_roc_curve(fpr_forest, tpr_forest, \"Random Forest\")\n",
        "plt.plot([fpr_90, fpr_90], [0., recall_90_precision], \"r:\")\n",
        "plt.plot([0.0, fpr_90], [recall_90_precision, recall_90_precision], \"r:\") \n",
        "plt.plot([fpr_90], [recall_90_precision], \"ro\")\n",
        "plt.plot([fpr_90, fpr_90], [0., recall_for_forest], \"r:\")\n",
        "plt.plot([fpr_90], [recall_for_forest], \"ro\")\n",
        "plt.grid(True)\n",
        "plt.legend(loc=\"lower right\", fontsize=16)\n",
        "#save_fig(\"roc_curve_comparison_plot\")\n",
        "plt.show()"
      ]
    },
    {
      "cell_type": "code",
      "execution_count": null,
      "metadata": {
        "colab": {
          "base_uri": "https://localhost:8080/"
        },
        "id": "ovkrbm8PdGhf",
        "outputId": "ee5973ad-0ecf-44fd-8e71-163bf7a82c89"
      },
      "outputs": [
        {
          "output_type": "execute_result",
          "data": {
            "text/plain": [
              "0.9983436731328145"
            ]
          },
          "metadata": {},
          "execution_count": 39
        }
      ],
      "source": [
        "# ROC AUC 점수\n",
        "roc_auc_score(y_train_5, y_scores_forest)"
      ]
    },
    {
      "cell_type": "code",
      "execution_count": null,
      "metadata": {
        "colab": {
          "base_uri": "https://localhost:8080/"
        },
        "id": "kouiqVpphnE2",
        "outputId": "766088bf-ea9d-485d-95d3-4219047a62a0"
      },
      "outputs": [
        {
          "output_type": "execute_result",
          "data": {
            "text/plain": [
              "0.9905083315756169"
            ]
          },
          "metadata": {},
          "execution_count": 40
        }
      ],
      "source": [
        "# 랜덤포레스트 모델 정밀도\n",
        "y_pred_forest = cross_val_predict(forest_clf, X_train, y_train_5, cv=3, \n",
        "                                    method='predict')\n",
        "precision_score(y_train_5, y_pred_forest)"
      ]
    },
    {
      "cell_type": "code",
      "execution_count": null,
      "metadata": {
        "colab": {
          "base_uri": "https://localhost:8080/"
        },
        "id": "VVXynBvfiFvw",
        "outputId": "d3d1f46e-ad2c-406b-8019-7d83fa1f56a3"
      },
      "outputs": [
        {
          "output_type": "execute_result",
          "data": {
            "text/plain": [
              "0.8662608374838591"
            ]
          },
          "metadata": {},
          "execution_count": 41
        }
      ],
      "source": [
        "# 랜덤포레스트 모델 재현율\n",
        "recall_score(y_train_5, y_pred_forest)"
      ]
    },
    {
      "cell_type": "markdown",
      "metadata": {
        "id": "8Lhueqx8lwY-"
      },
      "source": [
        "# 3.4 다중 분류"
      ]
    },
    {
      "cell_type": "markdown",
      "metadata": {
        "id": "2OUeWRAGl-Dz"
      },
      "source": [
        "* 다중 분류기(multiclass classifier) 또는 다항 분류기는 둘 이상의 클래스를 구별 가능\n",
        "\n",
        "* 일부 알고리즘(SGD, 랜덤 포레스트, 나이브 베이즈 naive Bayes)은 여러 개의 클래스를 직접 처리 가능, 반면 다른 알고리즘(로지스틱 회귀, 서포트 벡터 머신)은 이진 분류만 가능\n",
        "\n",
        "* 하지만 이진 분류기를 여러 개 사용해 다중 클래스를 분류하는 기법도 많다\n",
        "> * OvR 전략(one-versus-the-rest)또는  OvA(one-versus-all): 특정 숫자 하나만 구분하는 숫자별 이진 분류기 10개를 훈련시켜 클래스가 10개인 숫자 이미지 분류 시스템. 이미지를 분류할 때 각 분류기의 결정 점수 중에서 가장 높은 것을 클래스로 선택\n",
        "  * OvO(one-versus-one) 전략: 0과 1구별, 0과 2 구별, 1과 2 구별 등과 같이 각 숫자의 조합마다 이진 분류기를 훈련시키는 것. 클래스가 N개라면 분류기는 N*(N-1)/2개가 필요하다\n",
        "   * 장점: 각 분류기의 훈련에 전체 훈련 세트 중 구별할 두 클래스에 해당하는 샘플만 필요하다는 것\n",
        "   * 이러한 방식은 훈련 데이터셋의 크기에 민감한 알고리즘에 유리(SVM 같은), 작은 훈련 세트에서 많은 분류기를 훈련 시키는 쪽이 빠른 알고리즘\n",
        "   * 하지만 대부분의 이진 분류 알고리즘에서는 OvR을 선호\n",
        "\n",
        "* 다중 클래스 분류 작업에 이진 분류 알고리즘을 선택하면 사이킷런이 알고리즘에 따라 자동으로 OvR 또는 OvO를 실행"
      ]
    },
    {
      "cell_type": "code",
      "execution_count": null,
      "metadata": {
        "colab": {
          "base_uri": "https://localhost:8080/"
        },
        "id": "aYIDV81Vm6xs",
        "outputId": "7fd537f1-96f4-4b50-c2c6-a38ae002b621"
      },
      "outputs": [
        {
          "output_type": "execute_result",
          "data": {
            "text/plain": [
              "array([5], dtype=uint8)"
            ]
          },
          "metadata": {},
          "execution_count": 42
        }
      ],
      "source": [
        "# 서포트 벡터 머신 분류기 테스트해보자\n",
        "from sklearn.svm import SVC\n",
        "svm_clf = SVC()\n",
        "svm_clf.fit(X_train, y_train) # y_train_5가 아니고 y_train을 사용\n",
        "svm_clf.predict([some_digit])"
      ]
    },
    {
      "cell_type": "markdown",
      "metadata": {
        "id": "ctg0PP7GOQlV"
      },
      "source": [
        "* OvO 전략을 사용했는지 확인해보자\n",
        "* decision_function() 호출하면 샘플당 10개의 점수를 반환. 클래스마다 하나씩"
      ]
    },
    {
      "cell_type": "code",
      "execution_count": null,
      "metadata": {
        "colab": {
          "base_uri": "https://localhost:8080/"
        },
        "id": "YSCeOuy7OnUK",
        "outputId": "c3b28e88-a2c3-4ad8-b266-f081a74b876f"
      },
      "outputs": [
        {
          "output_type": "execute_result",
          "data": {
            "text/plain": [
              "array([[ 1.72501977,  2.72809088,  7.2510018 ,  8.3076379 , -0.31087254,\n",
              "         9.3132482 ,  1.70975103,  2.76765202,  6.23049537,  4.84771048]])"
            ]
          },
          "metadata": {},
          "execution_count": 43
        }
      ],
      "source": [
        "some_digit_scores = svm_clf.decision_function([some_digit])\n",
        "some_digit_scores"
      ]
    },
    {
      "cell_type": "code",
      "execution_count": null,
      "metadata": {
        "colab": {
          "base_uri": "https://localhost:8080/"
        },
        "id": "fVGZYgiFPXlG",
        "outputId": "3f861934-290f-4559-8b92-693c870a9946"
      },
      "outputs": [
        {
          "output_type": "execute_result",
          "data": {
            "text/plain": [
              "5"
            ]
          },
          "metadata": {},
          "execution_count": 44
        }
      ],
      "source": [
        "np.argmax(some_digit_scores)"
      ]
    },
    {
      "cell_type": "code",
      "execution_count": null,
      "metadata": {
        "colab": {
          "base_uri": "https://localhost:8080/"
        },
        "id": "UPBgigwWPtLd",
        "outputId": "e2c65faa-3f3a-4f6f-c2ab-afc954be8c66"
      },
      "outputs": [
        {
          "output_type": "execute_result",
          "data": {
            "text/plain": [
              "array([0, 1, 2, 3, 4, 5, 6, 7, 8, 9], dtype=uint8)"
            ]
          },
          "metadata": {},
          "execution_count": 45
        }
      ],
      "source": [
        "svm_clf.classes_"
      ]
    },
    {
      "cell_type": "code",
      "execution_count": null,
      "metadata": {
        "colab": {
          "base_uri": "https://localhost:8080/"
        },
        "id": "CbT169NxPx4X",
        "outputId": "54c5687d-bbe9-4c0e-aa5a-5af7e2ebd6ed"
      },
      "outputs": [
        {
          "output_type": "execute_result",
          "data": {
            "text/plain": [
              "5"
            ]
          },
          "metadata": {},
          "execution_count": 46
        }
      ],
      "source": [
        "svm_clf.classes_[5]"
      ]
    },
    {
      "cell_type": "markdown",
      "metadata": {
        "id": "bIx47FX8P2ez"
      },
      "source": [
        "* 분류기가 훈련될 때 classes_ 속성에 타깃 클래스의 리스트를 값으로 정렬하여 저장. 위 예제에서는 classes_ 배열에 있는 각 클래스의 인덱스가 클래스 값 자체와 같다.\n",
        "* 일반적으로 이런 경우는 드물다"
      ]
    },
    {
      "cell_type": "markdown",
      "metadata": {
        "id": "A7vjTJwmQM3u"
      },
      "source": [
        "* 강제로 OvO 또는 OvR 사용하도록 하기"
      ]
    },
    {
      "cell_type": "code",
      "execution_count": null,
      "metadata": {
        "colab": {
          "base_uri": "https://localhost:8080/"
        },
        "id": "IOL7IElIQYKI",
        "outputId": "148dd463-f6e4-4322-c6b3-0717c7693562"
      },
      "outputs": [
        {
          "output_type": "execute_result",
          "data": {
            "text/plain": [
              "array([5], dtype=uint8)"
            ]
          },
          "metadata": {},
          "execution_count": 47
        }
      ],
      "source": [
        "# SVC 기반으로 OvR전략 사용하는 다중 분류기(오래걸림)\n",
        "from sklearn.multiclass import OneVsRestClassifier\n",
        "ovr_clf = OneVsRestClassifier(SVC())\n",
        "ovr_clf.fit(X_train, y_train)\n",
        "ovr_clf.predict([some_digit])"
      ]
    },
    {
      "cell_type": "code",
      "execution_count": null,
      "metadata": {
        "colab": {
          "base_uri": "https://localhost:8080/"
        },
        "id": "hG6IcUnmQstS",
        "outputId": "90844960-6f98-460a-9e7b-f643fa75c8d7"
      },
      "outputs": [
        {
          "output_type": "execute_result",
          "data": {
            "text/plain": [
              "10"
            ]
          },
          "metadata": {},
          "execution_count": 48
        }
      ],
      "source": [
        "len(ovr_clf.estimators_)"
      ]
    },
    {
      "cell_type": "markdown",
      "metadata": {
        "id": "tzqf0SudQ_kt"
      },
      "source": [
        "* SGDClassifier(또는 RandomForestClassifier)를 훈련"
      ]
    },
    {
      "cell_type": "code",
      "execution_count": null,
      "metadata": {
        "colab": {
          "base_uri": "https://localhost:8080/"
        },
        "id": "DU4JfgylRU31",
        "outputId": "8cf51397-e53a-4062-883c-cf5579a967ed"
      },
      "outputs": [
        {
          "output_type": "execute_result",
          "data": {
            "text/plain": [
              "array([3], dtype=uint8)"
            ]
          },
          "metadata": {},
          "execution_count": 49
        }
      ],
      "source": [
        "sgd_clf.fit(X_train, y_train)\n",
        "sgd_clf.predict([some_digit])"
      ]
    },
    {
      "cell_type": "markdown",
      "metadata": {
        "id": "luLkXuj5Raep"
      },
      "source": [
        "* 위 경우는 SGD 분류기는 직접 샘플을 다중 클래스로 분류할 수 있기 때문에 OvR, OvO 적용할 필요가 없다"
      ]
    },
    {
      "cell_type": "code",
      "execution_count": null,
      "metadata": {
        "colab": {
          "base_uri": "https://localhost:8080/"
        },
        "id": "f6jQjRcnRwxJ",
        "outputId": "b2b09f38-4d96-4bba-c817-811d70176ee3"
      },
      "outputs": [
        {
          "output_type": "execute_result",
          "data": {
            "text/plain": [
              "array([[-31893.03095419, -34419.69069632,  -9530.63950739,\n",
              "          1823.73154031, -22320.14822878,  -1385.80478895,\n",
              "        -26188.91070951, -16147.51323997,  -4604.35491274,\n",
              "        -12050.767298  ]])"
            ]
          },
          "metadata": {},
          "execution_count": 50
        }
      ],
      "source": [
        "# SGD 분류기가 클래스마다 부여한 점수 확인\n",
        "sgd_clf.decision_function([some_digit])"
      ]
    },
    {
      "cell_type": "markdown",
      "metadata": {
        "id": "u0ZUv9onSHe9"
      },
      "source": [
        "* 분류기 평가해보기\n",
        "* 분류기 평가에는 일반적으로 교차 검증을 사용함"
      ]
    },
    {
      "cell_type": "code",
      "execution_count": null,
      "metadata": {
        "id": "rnShBeF9SXHh"
      },
      "outputs": [],
      "source": [
        "# SGDClassifier 정확도 평가(오래걸림)\n",
        "cross_val_score(sgd_clf, X_train, y_train, cv=3, scoring='accuracy')"
      ]
    },
    {
      "cell_type": "markdown",
      "metadata": {
        "id": "CEmBjL1SSpY1"
      },
      "source": [
        "* 입력 스케일 조정"
      ]
    },
    {
      "cell_type": "code",
      "execution_count": null,
      "metadata": {
        "id": "YJLfmBaMy4VB"
      },
      "outputs": [],
      "source": [
        "from sklearn.preprocessing import StandardScaler\n",
        "scaler = StandardScaler()\n",
        "X_train_scaled = scaler.fit_transform(X_train.astype(np.float64))\n",
        "cross_val_score(sgd_clf, X_train_scaled, y_train, cv=3, scoring='accuracy')"
      ]
    },
    {
      "cell_type": "markdown",
      "metadata": {
        "id": "viykK4w2zRhB"
      },
      "source": [
        "# 3.5 에러 분석"
      ]
    },
    {
      "cell_type": "markdown",
      "metadata": {
        "id": "XCwHNQDHzcDG"
      },
      "source": [
        "* 가능성이 높은 모델을 하나 찾았다고 가정하고 이 모델의 성능을 향상시킬 방법을 찾아보자\n",
        "* 한 가지 방법은 만들어진 에러의 종류를 분석하는 것"
      ]
    },
    {
      "cell_type": "markdown",
      "metadata": {
        "id": "7tdytRLkz2tm"
      },
      "source": [
        "* 오차 행렬 살펴보자"
      ]
    },
    {
      "cell_type": "code",
      "execution_count": null,
      "metadata": {
        "id": "3TnPjXItz98r"
      },
      "outputs": [],
      "source": [
        "y_train_pred = cross_val_predict(sgd_clf, X_train_scaled, y_train, cv=3)\n",
        "conf_mx = confusion_matrix(y_train, y_train_pred)\n",
        "conf_mx"
      ]
    },
    {
      "cell_type": "markdown",
      "metadata": {
        "id": "EfVXdkvO0Sz9"
      },
      "source": [
        "* 오차 행렬을 이미지로 표현\n",
        "* 행: 실제 클래스 나타냄\n",
        "* 열: 예측한 클래스"
      ]
    },
    {
      "cell_type": "code",
      "execution_count": null,
      "metadata": {
        "id": "Y6jw3tHN0ic9"
      },
      "outputs": [],
      "source": [
        "plt.matshow(conf_mx, cmap=plt.cm.gray)\n",
        "plt.show()"
      ]
    },
    {
      "cell_type": "markdown",
      "metadata": {
        "id": "BDr7rawD0oEe"
      },
      "source": [
        "* 대부분의 이미지가 올바르게 분류되었음을 나타내는 주대각선에 있으므로 매우 좋아 보인다\n",
        "* 숫자 5는 다른 숫자보다 조금 더 어두워 보인다\n",
        "> 1. 데이터셋에 숫자 5의 이미지가 적거나\n",
        "  2. 분류기가 숫자 5를 다른 숫자만큼 잘 분류하지 못한다는 뜻\n",
        "  * 두 경우 모두 확인해 봐야 함\n"
      ]
    },
    {
      "cell_type": "markdown",
      "metadata": {
        "id": "tM3p1HPK2DPl"
      },
      "source": [
        "* 에러 비율 비교\n",
        "* 에러의 절대 개수를 비교하면 안됨"
      ]
    },
    {
      "cell_type": "code",
      "execution_count": null,
      "metadata": {
        "id": "IPXYQh9-2W0c"
      },
      "outputs": [],
      "source": [
        "# 각 행을 합하여 각 클래스의 총 개수를 계산\n",
        "# keepdims=True: 결과를 같은 차원으로 유지하게 함\n",
        "row_sums = conf_mx.sum(axis=1, keepdims=True)\n",
        "norm_conf_mx = conf_mx / row_sums"
      ]
    },
    {
      "cell_type": "code",
      "execution_count": null,
      "metadata": {
        "id": "godC9dgH6E73"
      },
      "outputs": [],
      "source": [
        "np.fill_diagonal(norm_conf_mx, 0) # 주대각선 0으로 채우기\n",
        "plt.matshow(norm_conf_mx, cmap=plt.cm.gray)\n",
        "plt.show()"
      ]
    },
    {
      "cell_type": "markdown",
      "metadata": {
        "id": "OuUKXnc-8eA_"
      },
      "source": [
        "* 클래스 8의 열이 상당히 밝으므로 많은 이미지가 8로 잘못 분류되었음을 암시\n",
        "\n",
        "* 8로 잘못 분류되는 것을 줄이도록 개선할 필요가 있다\n",
        "> * 예를 들어 8처럼 보이는 하지만 실제 8은 아닌 숫자의 훈련 데이터를 더 많이 모아서 실제 8과 구분하도록 분류기를 학습하기\n",
        "  * 또는 분류기에 도움 될 만한 특성을 찾기: 동심원의 수를 세는 알고리즘 같은 것\n",
        "  * 또는 동심원 같은 어떤 패턴이 드러나도록 이미지 전처리하기\n",
        "\n",
        "* 개개의 에러를 분석해보면 통찰을 얻을 수 있지만 더 어렵고 시간이 오래 걸린다"
      ]
    },
    {
      "cell_type": "markdown",
      "metadata": {
        "id": "F9345R9c4x4w"
      },
      "source": [
        "* 예를 들어 3과 5의 샘플을 그려보자"
      ]
    },
    {
      "cell_type": "code",
      "execution_count": null,
      "metadata": {
        "id": "0QwMS93N8M4A"
      },
      "outputs": [],
      "source": [
        "# 숫자 그림을 위한 추가 함수\n",
        "def plot_digits(instances, images_per_row=10, **options):\n",
        "    size = 28\n",
        "    images_per_row = min(len(instances), images_per_row)\n",
        "    # n_rows = ceil(len(instances) / images_per_row) 와 동일합니다:\n",
        "    n_rows = (len(instances) - 1) // images_per_row + 1\n",
        "\n",
        "    # 필요하면 그리드 끝을 채우기 위해 빈 이미지를 추가합니다:\n",
        "    n_empty = n_rows * images_per_row - len(instances)\n",
        "    padded_instances = np.concatenate([instances, np.zeros((n_empty, size * size))], axis=0)\n",
        "\n",
        "    # 배열의 크기를 바꾸어 28×28 이미지를 담은 그리드로 구성합니다:\n",
        "    image_grid = padded_instances.reshape((n_rows, images_per_row, size, size))\n",
        "\n",
        "    # 축 0(이미지 그리드의 수직축)과 2(이미지의 수직축)를 합치고 축 1과 3(두 수평축)을 합칩니다. \n",
        "    # 먼저 transpose()를 사용해 결합하려는 축을 옆으로 이동한 다음 합칩니다:\n",
        "    big_image = image_grid.transpose(0, 2, 1, 3).reshape(n_rows * size,\n",
        "                                                         images_per_row * size)\n",
        "    # 하나의 큰 이미지를 얻었으므로 출력하면 됩니다:\n",
        "    plt.imshow(big_image, cmap = mpl.cm.binary, **options)\n",
        "    plt.axis(\"off\")"
      ]
    },
    {
      "cell_type": "code",
      "execution_count": null,
      "metadata": {
        "id": "_4idmQ185TP5"
      },
      "outputs": [],
      "source": [
        "cl_a, cl_b = 3, 5\n",
        "X_aa = X_train[(y_train == cl_a) & (y_train_pred == cl_a)]\n",
        "X_ab = X_train[(y_train == cl_a) & (y_train_pred == cl_b)]\n",
        "X_ba = X_train[(y_train == cl_b) & (y_train_pred == cl_a)]\n",
        "X_bb = X_train[(y_train == cl_b) & (y_train_pred == cl_b)]\n",
        "\n",
        "plt.figure(figsize=(8,8))\n",
        "plt.subplot(221); plot_digits(X_aa[:25], images_per_row=5)\n",
        "plt.subplot(222); plot_digits(X_ab[:25], images_per_row=5)\n",
        "plt.subplot(223); plot_digits(X_ba[:25], images_per_row=5)\n",
        "plt.subplot(224); plot_digits(X_bb[:25], images_per_row=5)\n",
        "plt.show()"
      ]
    },
    {
      "cell_type": "markdown",
      "metadata": {
        "id": "MOv38-7z7PUQ"
      },
      "source": [
        "* 대부분의 잘못 분류된 이미지는 분류기가 실수한 이유를 이해하기 어렵다\n",
        "> * 원인은 선형 모델인 SGDClassifier를 사용했기 때문\n",
        "  * 선형 분류기는 클래스마다 픽셀에 가중치를 할당하고 새로운 이미지에 대해 단순히 픽셀 강도의 가중치 합을 클래스의 점수로 계산. 따라서 3과 5는 몇 개의 픽셀만 다르기 때문에 모델이 쉽게 혼동함\n",
        "  \n",
        "* 3과 5의 주요 차이는 위쪽 선과 아래쪽 호를 이어주는 작은 직선의 위치\n",
        "* 분류기는 이미지의 위치나 회전 방향에 매우 민감\n",
        "* 3과 5의 에러를 줄이는 한 가지 방법: 이미지를 중앙에 위치시키고 회전되어 있지 않도록 전처리하는 것"
      ]
    },
    {
      "cell_type": "markdown",
      "metadata": {
        "id": "rY52INeq9bTS"
      },
      "source": [
        "# 3.6 다중 레이블 분류"
      ]
    },
    {
      "cell_type": "markdown",
      "metadata": {
        "id": "8kOJA1bW9dwd"
      },
      "source": [
        "* 다중 레이블 분류(multilabel classification) 시스템: 여러 개의 이진 꼬리표를 출력하는 분류 시스템"
      ]
    },
    {
      "cell_type": "code",
      "execution_count": null,
      "metadata": {
        "id": "5jLvkMue_sEc"
      },
      "outputs": [],
      "source": [
        "from sklearn.neighbors import KNeighborsClassifier\n",
        "\n",
        "y_train_large = (y_train >= 7)   # 7,8,9 = True\n",
        "y_train_odd = (y_train % 2 == 1) # 홀수 = True\n",
        "y_multilabel = np.c_[y_train_large, y_train_odd]\n",
        "# np.c_ : 여러 개의 1차원 배열을 열 방향(세로 방향)으로 합쳐서\n",
        "# 2차원 배열을 만들 때 사용\n",
        "\n",
        "knn_clf = KNeighborsClassifier()\n",
        "knn_clf.fit(X_train, y_multilabel)"
      ]
    },
    {
      "cell_type": "markdown",
      "metadata": {
        "id": "mIoEKh75UiKO"
      },
      "source": [
        "* 이 코드는 각 숫자 이미지에 두 개의 타깃 레이블이 담긴 y_multilabel 배열을 만듬\n",
        "\n",
        "* KNeighborsClassifier는 다중 레이블 분류를 지원하지만 모든 분류기가 그런 것은 아니다\n",
        "> * 다중 레이블 분류 지원하는 분류기: 결정 트리, 랜덤 포레스트, OneVsRestClassifier\n",
        "* 이제 예측을 만들면 레이블 두 개 출력"
      ]
    },
    {
      "cell_type": "code",
      "execution_count": null,
      "metadata": {
        "id": "DpnWSxfGWds3"
      },
      "outputs": [],
      "source": [
        "knn_clf.predict([some_digit])"
      ]
    },
    {
      "cell_type": "markdown",
      "metadata": {
        "id": "kf7lpS5MWgCd"
      },
      "source": [
        "* 다중 레이블 분류기 평가하기\n",
        "* 프로젝트마다 다르다\n",
        "* 다음 코드는 모든 레이블에 대한 F1 점수의 평균 계산"
      ]
    },
    {
      "cell_type": "code",
      "execution_count": null,
      "metadata": {
        "id": "30dMAgbDZSr6"
      },
      "outputs": [],
      "source": [
        "y_train_knn_pred = cross_val_predict(knn_clf, X_train, y_multilabel, cv=3)\n",
        "f1_score(y_multilabel, y_train_knn_pred, average='macro')"
      ]
    },
    {
      "cell_type": "markdown",
      "metadata": {
        "id": "ruPljNI9Z-j4"
      },
      "source": [
        "* 클래스 불균형 문제가 있을 경우(한 클래스의 샘플 수가 다른 클래스의 샘플 수에 비해 훨씬 많거나 적은 경우)\n",
        " * 간단한 방법: 레이블에 클래스의 지지도(support)를 가중치로 주는 것\n",
        " * average='weighted'로 바꾸기"
      ]
    },
    {
      "cell_type": "markdown",
      "metadata": {
        "id": "IDLa5Bjhbv1D"
      },
      "source": [
        "# 3.7 다중 출력 분류"
      ]
    },
    {
      "cell_type": "markdown",
      "metadata": {
        "id": "dZyvmSjnb2hO"
      },
      "source": [
        "* 다중 출력 다중 클래스 분류(multioutput-multiclass classfification) 또는 다중 출력 분류(multioutput classification): 다중 레이블 분류에서 한 레이블이 다중 클래스가 될 수 있도록 일반화한 것(즉, 값을 두 개 이상 가질 수 있다)"
      ]
    },
    {
      "cell_type": "markdown",
      "metadata": {
        "id": "8XH-HYSTdDOS"
      },
      "source": [
        "* 이를 위해 이미지에서 잡음을 제거하는 시스템을 만들어 보자\n",
        "> * 잡음이 많은 숫자 이미지를 입력으로 \n",
        "  받고 깨끗한 숫자 이미지를 MNIST 이미지처럼 픽셀의 강도를 담은 배열로 출력\n",
        "  * 분류기의 출력이 다중 레이블(픽셀당 한 레이블)이고 각 레이블은 값을 여러 개 가짐(0~255까지의 픽셀 강도)\n",
        "  * 그러므로 이 예는 다중 출력 분류 시스템이다\n",
        "\n",
        "* 다중 출력 분류는 일반적으로 회귀와 분류를 결합한 작업으로, 다중 출력 회귀(multioutput regression)라고도 부름\n"
      ]
    },
    {
      "cell_type": "markdown",
      "metadata": {
        "id": "WKd5QhckedQ3"
      },
      "source": [
        "* 먼저 MNIST 이미지에서 추출한 훈련 세트와 테스트 세트에 넘파이의 randint()함수를 사용해 픽셀 강도에 잡음을 추가\n",
        "* 타깃 이미지는 원본 이미지가 될 것이다"
      ]
    },
    {
      "cell_type": "code",
      "execution_count": null,
      "metadata": {
        "id": "NO_zD5O6esV0"
      },
      "outputs": [],
      "source": [
        "noise = np.random.randint(0, 100, (len(X_train), 784))\n",
        "# 0 이상 100 미만 정수 무작위 생성, 배열의 형태 (len(X_train), 784)\n",
        "# len(X_train) : 훈련 샘플 개수, 784 : 각 이미지 픽셀 개수\n",
        "X_train_mod = X_train + noise\n",
        "noise = np.random.randint(0, 100, (len(X_test), 784))\n",
        "X_test_mod = X_test + noise\n",
        "y_train_mod = X_train\n",
        "y_test_mod = X_test"
      ]
    },
    {
      "cell_type": "code",
      "execution_count": null,
      "metadata": {
        "id": "jw_8cie2guN3"
      },
      "outputs": [],
      "source": [
        "# 테스트 세트에서 이미지 하나 선택\n",
        "def plot_digit(data):\n",
        "    image = data.reshape(28, 28)\n",
        "    plt.imshow(image, cmap = mpl.cm.binary,\n",
        "               interpolation=\"nearest\")\n",
        "    plt.axis(\"off\")\n",
        "    \n",
        "some_index = 0\n",
        "plt.subplot(121); plot_digit(X_test_mod[some_index])\n",
        "plt.subplot(122); plot_digit(y_test_mod[some_index])\n",
        "#save_fig(\"noisy_digit_example_plot\")\n",
        "plt.show()"
      ]
    },
    {
      "cell_type": "code",
      "execution_count": null,
      "metadata": {
        "id": "nLKK2doEiaMx"
      },
      "outputs": [],
      "source": [
        "# 분류기 훈련시켜 잡음 제거하기\n",
        "knn_clf.fit(X_train_mod, y_train_mod)\n",
        "clean_digit = knn_clf.predict([X_test_mod[some_index]])\n",
        "plot_digit(clean_digit)"
      ]
    },
    {
      "cell_type": "code",
      "execution_count": null,
      "metadata": {
        "id": "2OHUuv7YirAe"
      },
      "outputs": [],
      "source": []
    }
  ],
  "metadata": {
    "accelerator": "GPU",
    "colab": {
      "provenance": [],
      "authorship_tag": "ABX9TyMG6Lj/cfX2xoA1Olbqd0WB",
      "include_colab_link": true
    },
    "gpuClass": "standard",
    "kernelspec": {
      "display_name": "Python 3",
      "name": "python3"
    },
    "language_info": {
      "name": "python"
    }
  },
  "nbformat": 4,
  "nbformat_minor": 0
}